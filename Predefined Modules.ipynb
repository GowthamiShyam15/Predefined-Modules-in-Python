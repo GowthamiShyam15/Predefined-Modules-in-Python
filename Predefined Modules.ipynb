{
 "cells": [
  {
   "cell_type": "markdown",
   "id": "8cbcae63",
   "metadata": {},
   "source": [
    "# Predefined Modules"
   ]
  },
  {
   "cell_type": "markdown",
   "id": "75cce6c6",
   "metadata": {},
   "source": [
    "- os Module\n",
    "- sys Module\n",
    "- math Module\n",
    "- random Module\n",
    "- date and time Module"
   ]
  },
  {
   "cell_type": "markdown",
   "id": "caa5c385",
   "metadata": {},
   "source": [
    "<h3>os Module</h3>"
   ]
  },
  {
   "cell_type": "code",
   "execution_count": 1,
   "id": "2a5f50cc",
   "metadata": {},
   "outputs": [],
   "source": [
    "#getcwd()\n",
    "#chdir()\n",
    "#rename()\n",
    "#unlink()"
   ]
  },
  {
   "cell_type": "code",
   "execution_count": 66,
   "id": "beef284f",
   "metadata": {},
   "outputs": [],
   "source": [
    "import os"
   ]
  },
  {
   "cell_type": "code",
   "execution_count": 2,
   "id": "c58df67c",
   "metadata": {},
   "outputs": [
    {
     "name": "stdout",
     "output_type": "stream",
     "text": [
      "['DirEntry', 'F_OK', 'GenericAlias', 'Mapping', 'MutableMapping', 'O_APPEND', 'O_BINARY', 'O_CREAT', 'O_EXCL', 'O_NOINHERIT', 'O_RANDOM', 'O_RDONLY', 'O_RDWR', 'O_SEQUENTIAL', 'O_SHORT_LIVED', 'O_TEMPORARY', 'O_TEXT', 'O_TRUNC', 'O_WRONLY', 'P_DETACH', 'P_NOWAIT', 'P_NOWAITO', 'P_OVERLAY', 'P_WAIT', 'PathLike', 'R_OK', 'SEEK_CUR', 'SEEK_END', 'SEEK_SET', 'TMP_MAX', 'W_OK', 'X_OK', '_AddedDllDirectory', '_Environ', '__all__', '__builtins__', '__cached__', '__doc__', '__file__', '__loader__', '__name__', '__package__', '__spec__', '_check_methods', '_execvpe', '_exists', '_exit', '_fspath', '_get_exports_list', '_walk', '_wrap_close', 'abc', 'abort', 'access', 'add_dll_directory', 'altsep', 'chdir', 'chmod', 'close', 'closerange', 'cpu_count', 'curdir', 'defpath', 'device_encoding', 'devnull', 'dup', 'dup2', 'environ', 'error', 'execl', 'execle', 'execlp', 'execlpe', 'execv', 'execve', 'execvp', 'execvpe', 'extsep', 'fdopen', 'fsdecode', 'fsencode', 'fspath', 'fstat', 'fsync', 'ftruncate', 'get_exec_path', 'get_handle_inheritable', 'get_inheritable', 'get_terminal_size', 'getcwd', 'getcwdb', 'getenv', 'getlogin', 'getpid', 'getppid', 'isatty', 'kill', 'linesep', 'link', 'listdir', 'lseek', 'lstat', 'makedirs', 'mkdir', 'name', 'open', 'pardir', 'path', 'pathsep', 'pipe', 'popen', 'putenv', 'read', 'readlink', 'remove', 'removedirs', 'rename', 'renames', 'replace', 'rmdir', 'scandir', 'sep', 'set_handle_inheritable', 'set_inheritable', 'spawnl', 'spawnle', 'spawnv', 'spawnve', 'st', 'startfile', 'stat', 'stat_result', 'statvfs_result', 'strerror', 'supports_bytes_environ', 'supports_dir_fd', 'supports_effective_ids', 'supports_fd', 'supports_follow_symlinks', 'symlink', 'sys', 'system', 'terminal_size', 'times', 'times_result', 'truncate', 'umask', 'uname_result', 'unlink', 'unsetenv', 'urandom', 'utime', 'waitpid', 'waitstatus_to_exitcode', 'walk', 'write']\n"
     ]
    }
   ],
   "source": [
    "print(dir(os))"
   ]
  },
  {
   "cell_type": "code",
   "execution_count": 7,
   "id": "1ade190b",
   "metadata": {},
   "outputs": [
    {
     "name": "stdout",
     "output_type": "stream",
     "text": [
      "C:\\Users\\Admin\\OneDrive\\Desktop\\RE-Python\\12pm-2pm\n"
     ]
    }
   ],
   "source": [
    "print(os.getcwd())"
   ]
  },
  {
   "cell_type": "code",
   "execution_count": 8,
   "id": "1d1196d0",
   "metadata": {},
   "outputs": [],
   "source": [
    "fs = open(\"text.txt\",\"w\")\n",
    "fs.write(\"Hello everyone, we are learning predefined modules.....\")\n",
    "fs.close()"
   ]
  },
  {
   "cell_type": "code",
   "execution_count": 9,
   "id": "1ea40522",
   "metadata": {},
   "outputs": [],
   "source": [
    "#folders -> directories\n",
    "#mkdir()-> create a folder\n",
    "os.mkdir(\"example\")"
   ]
  },
  {
   "cell_type": "code",
   "execution_count": 67,
   "id": "b55e6ab1",
   "metadata": {},
   "outputs": [],
   "source": [
    "#create sub folder\n",
    "#makedirs()\n",
    "os.makedirs(\"example/sub1/sub2/sub3\")"
   ]
  },
  {
   "cell_type": "code",
   "execution_count": 68,
   "id": "2f463b90",
   "metadata": {},
   "outputs": [],
   "source": [
    "os.chdir(\"C:\\\\Users\\\\Admin\\\\OneDrive\\\\Desktop\\\\RE-Python\\\\12pm-2pm\\\\example\\\\sub1\\\\sub2\\\\sub3\")"
   ]
  },
  {
   "cell_type": "code",
   "execution_count": 69,
   "id": "f4a8373f",
   "metadata": {},
   "outputs": [],
   "source": [
    "fs = open(\"demo.txt\",\"w\")\n",
    "fs.write(\"Hello everyone, we are learning predefined modules.....\")\n",
    "fs.close()"
   ]
  },
  {
   "cell_type": "code",
   "execution_count": 5,
   "id": "5b9ebde1",
   "metadata": {},
   "outputs": [
    {
     "name": "stdout",
     "output_type": "stream",
     "text": [
      "PreviousNo. 0 ->CurrentNo.: 1 ->sum: 0 + 1 = 1\n",
      "PreviousNo. 1 ->CurrentNo.: 2 ->sum: 1 + 2 = 3\n",
      "PreviousNo. 2 ->CurrentNo.: 3 ->sum: 2 + 3 = 5\n",
      "PreviousNo. 3 ->CurrentNo.: 4 ->sum: 3 + 4 = 7\n",
      "PreviousNo. 4 ->CurrentNo.: 5 ->sum: 4 + 5 = 9\n",
      "PreviousNo. 5 ->CurrentNo.: 6 ->sum: 5 + 6 = 11\n",
      "PreviousNo. 6 ->CurrentNo.: 7 ->sum: 6 + 7 = 13\n",
      "PreviousNo. 7 ->CurrentNo.: 8 ->sum: 7 + 8 = 15\n",
      "PreviousNo. 8 ->CurrentNo.: 9 ->sum: 8 + 9 = 17\n",
      "PreviousNo. 9 ->CurrentNo.: 10 ->sum: 9 + 10 = 19\n"
     ]
    }
   ],
   "source": [
    "#1. WAP to iterate first 10 numbers and in each iteration, \n",
    "#print the sum of current number and previous number?\n",
    "\n",
    "pn = 0\n",
    "for cn in range(1,11):\n",
    "    s = pn+cn\n",
    "    print(\"PreviousNo.\",pn,\"->CurrentNo.:\",cn,\"->sum:\",pn,\"+\",cn,\"=\",s)\n",
    "    pn = cn"
   ]
  },
  {
   "cell_type": "code",
   "execution_count": 3,
   "id": "9c38b447",
   "metadata": {},
   "outputs": [
    {
     "name": "stdout",
     "output_type": "stream",
     "text": [
      "enter a string:welcome to python course\n",
      "wloet yhncus"
     ]
    }
   ],
   "source": [
    "#2. WAP to accept a string from the user and display characters that are \n",
    "#present at an even index number?\n",
    "\n",
    "s = input(\"enter a string:\")\n",
    "for i in range(0,len(s),2):\n",
    "    print(s[i],end=\"\")\n",
    "    "
   ]
  },
  {
   "cell_type": "code",
   "execution_count": 5,
   "id": "19fe05b2",
   "metadata": {},
   "outputs": [
    {
     "name": "stdout",
     "output_type": "stream",
     "text": [
      "[9, 18, 21]\n"
     ]
    }
   ],
   "source": [
    "#3. Display number divisible by 3 from the given list-\n",
    "\n",
    "l = [9,25,18,23,32,21]\n",
    "x = [i for i in l if i%3==0]\n",
    "print(x)"
   ]
  },
  {
   "cell_type": "code",
   "execution_count": 8,
   "id": "698f4074",
   "metadata": {},
   "outputs": [
    {
     "name": "stdout",
     "output_type": "stream",
     "text": [
      "2\n"
     ]
    }
   ],
   "source": [
    "#4. WAP to find how many times substring \"Sai\" exists in the given string-\n",
    "\n",
    "s = \"Sai is a good programmer.Sai is developer\"\n",
    "\n",
    "print(s.count(\"Sai\"))"
   ]
  },
  {
   "cell_type": "code",
   "execution_count": 14,
   "id": "467187a8",
   "metadata": {},
   "outputs": [
    {
     "name": "stdout",
     "output_type": "stream",
     "text": [
      "1 \n",
      "\n",
      "2 2 \n",
      "\n",
      "3 3 3 \n",
      "\n",
      "4 4 4 4 \n",
      "\n",
      "5 5 5 5 5 \n",
      "\n"
     ]
    }
   ],
   "source": [
    "for i in range(1,6):\n",
    "    for j in range(i):\n",
    "        print(i,end=\" \")\n",
    "    print(\"\\n\")"
   ]
  },
  {
   "cell_type": "markdown",
   "id": "49b105ce",
   "metadata": {},
   "source": [
    "<h3>math Module</h3>"
   ]
  },
  {
   "cell_type": "code",
   "execution_count": 19,
   "id": "880989ed",
   "metadata": {},
   "outputs": [],
   "source": [
    "import math"
   ]
  },
  {
   "cell_type": "code",
   "execution_count": 22,
   "id": "eb6a035b",
   "metadata": {},
   "outputs": [
    {
     "name": "stdout",
     "output_type": "stream",
     "text": [
      "['__doc__', '__loader__', '__name__', '__package__', '__spec__', 'acos', 'acosh', 'asin', 'asinh', 'atan', 'atan2', 'atanh', 'ceil', 'comb', 'copysign', 'cos', 'cosh', 'degrees', 'dist', 'e', 'erf', 'erfc', 'exp', 'expm1', 'fabs', 'factorial', 'floor', 'fmod', 'frexp', 'fsum', 'gamma', 'gcd', 'hypot', 'inf', 'isclose', 'isfinite', 'isinf', 'isnan', 'isqrt', 'lcm', 'ldexp', 'lgamma', 'log', 'log10', 'log1p', 'log2', 'modf', 'nan', 'nextafter', 'perm', 'pi', 'pow', 'prod', 'radians', 'remainder', 'sin', 'sinh', 'sqrt', 'tan', 'tanh', 'tau', 'trunc', 'ulp']\n"
     ]
    }
   ],
   "source": [
    "#dir()\n",
    "print(dir(math))"
   ]
  },
  {
   "cell_type": "code",
   "execution_count": 33,
   "id": "dce228cd",
   "metadata": {},
   "outputs": [
    {
     "name": "stdout",
     "output_type": "stream",
     "text": [
      "enter value:23.98986643233\n",
      "24\n"
     ]
    }
   ],
   "source": [
    "#ceil()-> returns greater integer value\n",
    "n = float(input(\"enter value:\"))\n",
    "print(math.ceil(n))"
   ]
  },
  {
   "cell_type": "code",
   "execution_count": 34,
   "id": "0ef611c8",
   "metadata": {},
   "outputs": [
    {
     "name": "stdout",
     "output_type": "stream",
     "text": [
      "enter value:97655.564256\n",
      "97655\n"
     ]
    }
   ],
   "source": [
    "#floor()-> returns lower integer value\n",
    "n = float(input(\"enter value:\"))\n",
    "print(math.floor(n))"
   ]
  },
  {
   "cell_type": "code",
   "execution_count": 38,
   "id": "1d7578ee",
   "metadata": {},
   "outputs": [
    {
     "name": "stdout",
     "output_type": "stream",
     "text": [
      "enter value:567.235334546\n",
      "567.24\n"
     ]
    }
   ],
   "source": [
    "#round()-> returns nearest integer value\n",
    "n = float(input(\"enter value:\"))\n",
    "print(round(n,2))"
   ]
  },
  {
   "cell_type": "code",
   "execution_count": 40,
   "id": "8679a396",
   "metadata": {},
   "outputs": [
    {
     "name": "stdout",
     "output_type": "stream",
     "text": [
      "enter value:-90.78\n",
      "90.78\n"
     ]
    }
   ],
   "source": [
    "#fabs() -> converts negative to positive float value.\n",
    "n = float(input(\"enter value:\"))\n",
    "print(math.fabs(n))"
   ]
  },
  {
   "cell_type": "code",
   "execution_count": 41,
   "id": "5cb6468b",
   "metadata": {},
   "outputs": [
    {
     "name": "stdout",
     "output_type": "stream",
     "text": [
      "enter value:5\n",
      "120\n"
     ]
    }
   ],
   "source": [
    "#factorial() \n",
    "n = int(input(\"enter value:\")) #5\n",
    "print(math.factorial(n))"
   ]
  },
  {
   "cell_type": "code",
   "execution_count": 44,
   "id": "065ed965",
   "metadata": {},
   "outputs": [
    {
     "name": "stdout",
     "output_type": "stream",
     "text": [
      "enter value:12\n",
      "3.4641016151377544\n"
     ]
    }
   ],
   "source": [
    "#sqrt()\n",
    "n = int(input(\"enter value:\")) #5\n",
    "print(math.sqrt(n))"
   ]
  },
  {
   "cell_type": "code",
   "execution_count": 48,
   "id": "4b4ae794",
   "metadata": {},
   "outputs": [
    {
     "name": "stdout",
     "output_type": "stream",
     "text": [
      "enter numerator value:15\n",
      "enter denominator value:17\n",
      "15.0\n"
     ]
    }
   ],
   "source": [
    "#fmod(num,den)\n",
    "num = int(input(\"enter numerator value:\")) \n",
    "den = int(input(\"enter denominator value:\")) \n",
    "print(math.fmod(num,den))"
   ]
  },
  {
   "cell_type": "code",
   "execution_count": 50,
   "id": "0af59a0f",
   "metadata": {},
   "outputs": [
    {
     "name": "stdout",
     "output_type": "stream",
     "text": [
      "enter base value:34\n",
      "enter power value:3\n",
      "39304.0\n"
     ]
    }
   ],
   "source": [
    "#pow(bv,pv)\n",
    "base = int(input(\"enter base value:\")) \n",
    "power = int(input(\"enter power value:\")) \n",
    "print(math.pow(base,power))"
   ]
  },
  {
   "cell_type": "code",
   "execution_count": 55,
   "id": "722a2b59",
   "metadata": {},
   "outputs": [
    {
     "name": "stdout",
     "output_type": "stream",
     "text": [
      "enter value:2\n",
      "7.38905609893065\n"
     ]
    }
   ],
   "source": [
    "#exp(n)\n",
    "n = int(input(\"enter value:\")) #5\n",
    "print(math.exp(n))"
   ]
  },
  {
   "cell_type": "code",
   "execution_count": 51,
   "id": "5120034a",
   "metadata": {},
   "outputs": [
    {
     "name": "stdout",
     "output_type": "stream",
     "text": [
      "3.141592653589793\n"
     ]
    }
   ],
   "source": [
    "#pi\n",
    "print(math.pi)"
   ]
  },
  {
   "cell_type": "code",
   "execution_count": 52,
   "id": "a252b7b5",
   "metadata": {},
   "outputs": [
    {
     "name": "stdout",
     "output_type": "stream",
     "text": [
      "2.718281828459045\n"
     ]
    }
   ],
   "source": [
    "#e\n",
    "print(math.e)"
   ]
  },
  {
   "cell_type": "code",
   "execution_count": 56,
   "id": "2935f261",
   "metadata": {},
   "outputs": [
    {
     "name": "stdout",
     "output_type": "stream",
     "text": [
      "nan\n"
     ]
    }
   ],
   "source": [
    "#nan -> not a number\n",
    "print(math.nan)"
   ]
  },
  {
   "cell_type": "code",
   "execution_count": 57,
   "id": "fd3b923e",
   "metadata": {},
   "outputs": [
    {
     "name": "stdout",
     "output_type": "stream",
     "text": [
      "6.283185307179586\n"
     ]
    }
   ],
   "source": [
    "#tau\n",
    "print(math.tau)"
   ]
  },
  {
   "cell_type": "markdown",
   "id": "23e7cfd5",
   "metadata": {},
   "source": [
    "<h3>random Module</h3>"
   ]
  },
  {
   "cell_type": "code",
   "execution_count": 58,
   "id": "4d8e07c1",
   "metadata": {},
   "outputs": [],
   "source": [
    "import random"
   ]
  },
  {
   "cell_type": "code",
   "execution_count": 59,
   "id": "9e8afbc6",
   "metadata": {},
   "outputs": [
    {
     "name": "stdout",
     "output_type": "stream",
     "text": [
      "['BPF', 'LOG4', 'NV_MAGICCONST', 'RECIP_BPF', 'Random', 'SG_MAGICCONST', 'SystemRandom', 'TWOPI', '_ONE', '_Sequence', '_Set', '__all__', '__builtins__', '__cached__', '__doc__', '__file__', '__loader__', '__name__', '__package__', '__spec__', '_accumulate', '_acos', '_bisect', '_ceil', '_cos', '_e', '_exp', '_floor', '_index', '_inst', '_isfinite', '_log', '_os', '_pi', '_random', '_repeat', '_sha512', '_sin', '_sqrt', '_test', '_test_generator', '_urandom', '_warn', 'betavariate', 'choice', 'choices', 'expovariate', 'gammavariate', 'gauss', 'getrandbits', 'getstate', 'lognormvariate', 'normalvariate', 'paretovariate', 'randbytes', 'randint', 'random', 'randrange', 'sample', 'seed', 'setstate', 'shuffle', 'triangular', 'uniform', 'vonmisesvariate', 'weibullvariate']\n"
     ]
    }
   ],
   "source": [
    "print(dir(random))"
   ]
  },
  {
   "cell_type": "code",
   "execution_count": 66,
   "id": "a7db15bb",
   "metadata": {},
   "outputs": [
    {
     "name": "stdout",
     "output_type": "stream",
     "text": [
      "0.054940864349459884\n"
     ]
    }
   ],
   "source": [
    "#random() -> default return float value between 0.0-1.0\n",
    "print(random.random())"
   ]
  },
  {
   "cell_type": "code",
   "execution_count": 75,
   "id": "4b203fec",
   "metadata": {},
   "outputs": [
    {
     "name": "stdout",
     "output_type": "stream",
     "text": [
      "2.857538678270511\n"
     ]
    }
   ],
   "source": [
    "#uniform(a,b) -> return float value between a and b\n",
    "\n",
    "print(random.uniform(1,6))"
   ]
  },
  {
   "cell_type": "code",
   "execution_count": 89,
   "id": "f56a8403",
   "metadata": {},
   "outputs": [
    {
     "name": "stdout",
     "output_type": "stream",
     "text": [
      "5\n"
     ]
    }
   ],
   "source": [
    "#randint(a,b)  -> return integer value between a and b\n",
    "print(random.randint(1,6))"
   ]
  },
  {
   "cell_type": "code",
   "execution_count": 99,
   "id": "3f488558",
   "metadata": {},
   "outputs": [
    {
     "name": "stdout",
     "output_type": "stream",
     "text": [
      "34.78\n"
     ]
    }
   ],
   "source": [
    "#choice(SDT)\n",
    "\n",
    "l = [\"sai\",89,\"mani\",56,34.78]\n",
    "print(random.choice(l))"
   ]
  },
  {
   "cell_type": "code",
   "execution_count": 108,
   "id": "ab3c4204",
   "metadata": {},
   "outputs": [
    {
     "name": "stdout",
     "output_type": "stream",
     "text": [
      "Initial list: ['sai', 89, 'mani', 56, 34.78]\n",
      "after shuffling: [34.78, 'sai', 89, 'mani', 56]\n"
     ]
    }
   ],
   "source": [
    "#shuffle()\n",
    "l = [\"sai\",89,\"mani\",56,34.78]\n",
    "print(\"Initial list:\",l)\n",
    "random.shuffle(l)\n",
    "print(\"after shuffling:\",l)"
   ]
  },
  {
   "cell_type": "markdown",
   "id": "008f3282",
   "metadata": {},
   "source": [
    "<h3>sys Module</h3>"
   ]
  },
  {
   "cell_type": "code",
   "execution_count": 4,
   "id": "51a4d0db",
   "metadata": {},
   "outputs": [],
   "source": [
    "import sys"
   ]
  },
  {
   "cell_type": "code",
   "execution_count": 5,
   "id": "dcd70c59",
   "metadata": {},
   "outputs": [
    {
     "name": "stdout",
     "output_type": "stream",
     "text": [
      "['__breakpointhook__', '__displayhook__', '__doc__', '__excepthook__', '__interactivehook__', '__loader__', '__name__', '__package__', '__spec__', '__stderr__', '__stdin__', '__stdout__', '__unraisablehook__', '_base_executable', '_clear_type_cache', '_current_exceptions', '_current_frames', '_deactivate_opcache', '_debugmallocstats', '_enablelegacywindowsfsencoding', '_framework', '_getframe', '_git', '_home', '_xoptions', 'addaudithook', 'api_version', 'argv', 'audit', 'base_exec_prefix', 'base_prefix', 'breakpointhook', 'builtin_module_names', 'byteorder', 'call_tracing', 'copyright', 'displayhook', 'dllhandle', 'dont_write_bytecode', 'exc_info', 'excepthook', 'exec_prefix', 'executable', 'exit', 'flags', 'float_info', 'float_repr_style', 'get_asyncgen_hooks', 'get_coroutine_origin_tracking_depth', 'getallocatedblocks', 'getdefaultencoding', 'getfilesystemencodeerrors', 'getfilesystemencoding', 'getprofile', 'getrecursionlimit', 'getrefcount', 'getsizeof', 'getswitchinterval', 'gettrace', 'getwindowsversion', 'hash_info', 'hexversion', 'implementation', 'int_info', 'intern', 'is_finalizing', 'maxsize', 'maxunicode', 'meta_path', 'modules', 'orig_argv', 'path', 'path_hooks', 'path_importer_cache', 'platform', 'platlibdir', 'prefix', 'ps1', 'ps2', 'ps3', 'pycache_prefix', 'set_asyncgen_hooks', 'set_coroutine_origin_tracking_depth', 'setprofile', 'setrecursionlimit', 'setswitchinterval', 'settrace', 'stderr', 'stdin', 'stdlib_module_names', 'stdout', 'thread_info', 'unraisablehook', 'version', 'version_info', 'warnoptions', 'winver']\n"
     ]
    }
   ],
   "source": [
    "print(dir(sys))"
   ]
  },
  {
   "cell_type": "code",
   "execution_count": 7,
   "id": "488012df",
   "metadata": {},
   "outputs": [
    {
     "name": "stdout",
     "output_type": "stream",
     "text": [
      "welcome to python course\n"
     ]
    },
    {
     "ename": "SystemExit",
     "evalue": "",
     "output_type": "error",
     "traceback": [
      "An exception has occurred, use %tb to see the full traceback.\n",
      "\u001b[1;31mSystemExit\u001b[0m\n"
     ]
    },
    {
     "name": "stderr",
     "output_type": "stream",
     "text": [
      "C:\\Users\\Admin\\AppData\\Local\\Programs\\Python\\Python310\\lib\\site-packages\\IPython\\core\\interactiveshell.py:3377: UserWarning: To exit: use 'exit', 'quit', or Ctrl-D.\n",
      "  warn(\"To exit: use 'exit', 'quit', or Ctrl-D.\", stacklevel=1)\n"
     ]
    }
   ],
   "source": [
    "#exit()\n",
    "print(\"welcome to python course\")\n",
    "sys.exit()\n",
    "print(\"Hello everyone..\")"
   ]
  },
  {
   "cell_type": "code",
   "execution_count": 8,
   "id": "effecc3f",
   "metadata": {},
   "outputs": [
    {
     "name": "stdout",
     "output_type": "stream",
     "text": [
      "['C:\\\\Users\\\\Admin\\\\OneDrive\\\\Desktop\\\\RE-Python\\\\12pm-2pm', 'C:\\\\Users\\\\Admin\\\\AppData\\\\Local\\\\Programs\\\\Python\\\\Python310\\\\python310.zip', 'C:\\\\Users\\\\Admin\\\\AppData\\\\Local\\\\Programs\\\\Python\\\\Python310\\\\DLLs', 'C:\\\\Users\\\\Admin\\\\AppData\\\\Local\\\\Programs\\\\Python\\\\Python310\\\\lib', 'C:\\\\Users\\\\Admin\\\\AppData\\\\Local\\\\Programs\\\\Python\\\\Python310', '', 'C:\\\\Users\\\\Admin\\\\AppData\\\\Local\\\\Programs\\\\Python\\\\Python310\\\\lib\\\\site-packages', 'C:\\\\Users\\\\Admin\\\\AppData\\\\Local\\\\Programs\\\\Python\\\\Python310\\\\lib\\\\site-packages\\\\win32', 'C:\\\\Users\\\\Admin\\\\AppData\\\\Local\\\\Programs\\\\Python\\\\Python310\\\\lib\\\\site-packages\\\\win32\\\\lib', 'C:\\\\Users\\\\Admin\\\\AppData\\\\Local\\\\Programs\\\\Python\\\\Python310\\\\lib\\\\site-packages\\\\Pythonwin']\n"
     ]
    }
   ],
   "source": [
    "#path\n",
    "print(sys.path)"
   ]
  },
  {
   "cell_type": "code",
   "execution_count": 9,
   "id": "9cbee26a",
   "metadata": {},
   "outputs": [
    {
     "name": "stdout",
     "output_type": "stream",
     "text": [
      "win32\n"
     ]
    }
   ],
   "source": [
    "#platform\n",
    "print(sys.platform)"
   ]
  },
  {
   "cell_type": "code",
   "execution_count": 11,
   "id": "ac99ba72",
   "metadata": {},
   "outputs": [
    {
     "name": "stdout",
     "output_type": "stream",
     "text": [
      "961\n"
     ]
    }
   ],
   "source": [
    "#modules\n",
    "x= sys.modules\n",
    "print(len(x))"
   ]
  },
  {
   "cell_type": "code",
   "execution_count": 12,
   "id": "a38f8232",
   "metadata": {},
   "outputs": [
    {
     "name": "stdout",
     "output_type": "stream",
     "text": [
      "Copyright (c) 2001-2022 Python Software Foundation.\n",
      "All Rights Reserved.\n",
      "\n",
      "Copyright (c) 2000 BeOpen.com.\n",
      "All Rights Reserved.\n",
      "\n",
      "Copyright (c) 1995-2001 Corporation for National Research Initiatives.\n",
      "All Rights Reserved.\n",
      "\n",
      "Copyright (c) 1991-1995 Stichting Mathematisch Centrum, Amsterdam.\n",
      "All Rights Reserved.\n"
     ]
    }
   ],
   "source": [
    "#copyright\n",
    "print(sys.copyright)"
   ]
  },
  {
   "cell_type": "markdown",
   "id": "9ddb70cd",
   "metadata": {},
   "source": [
    "<h3>Date and Time Module</h3>"
   ]
  },
  {
   "cell_type": "code",
   "execution_count": 1,
   "id": "c5b39cce",
   "metadata": {},
   "outputs": [],
   "source": [
    "import datetime"
   ]
  },
  {
   "cell_type": "code",
   "execution_count": 5,
   "id": "0cfe4a81",
   "metadata": {},
   "outputs": [
    {
     "name": "stdout",
     "output_type": "stream",
     "text": [
      "2023-10-08 12:19:37.831042\n"
     ]
    }
   ],
   "source": [
    "print(datetime.datetime.now())"
   ]
  },
  {
   "cell_type": "code",
   "execution_count": 6,
   "id": "787c7c11",
   "metadata": {},
   "outputs": [
    {
     "name": "stdout",
     "output_type": "stream",
     "text": [
      "2023-10-08 12:19:39.172747\n"
     ]
    }
   ],
   "source": [
    "print(datetime.datetime.today())"
   ]
  },
  {
   "cell_type": "code",
   "execution_count": 35,
   "id": "0ab0f974",
   "metadata": {},
   "outputs": [
    {
     "name": "stdout",
     "output_type": "stream",
     "text": [
      "2023-10-09 13:35:23.000045\n"
     ]
    }
   ],
   "source": [
    "#How to create date and time\n",
    "\n",
    "x = datetime.datetime(2023,10,9,13,35,23,45)\n",
    "print(x)"
   ]
  },
  {
   "cell_type": "code",
   "execution_count": 36,
   "id": "9fda7992",
   "metadata": {},
   "outputs": [
    {
     "name": "stdout",
     "output_type": "stream",
     "text": [
      "PM\n"
     ]
    }
   ],
   "source": [
    "print(x.strftime(\"%p\"))"
   ]
  },
  {
   "cell_type": "code",
   "execution_count": 40,
   "id": "2f4d8ddd",
   "metadata": {},
   "outputs": [
    {
     "name": "stdout",
     "output_type": "stream",
     "text": [
      "current date and time: 2023-10-08 12:52:52.340729\n",
      "Only date: 10/08/23\n",
      "Only time: 12:52:52\n",
      "Year ends with 2 digits: 23\n",
      "Year ends with 4 digits: 2023\n",
      "only month in digit: 10\n",
      "only month in first 3 characters: Oct\n",
      "only month in full name: October\n",
      "only day in 1st 3 characters: Sun\n",
      "only day in Full characters: Sunday\n",
      "Day in a week: 0\n",
      "Day in a month: 08\n",
      "Day in a year: 281\n",
      "Day in a year: 41\n",
      "12 hours : 12\n",
      "PM/AM : PM\n",
      "24 hours : 12\n",
      "Only Minutes : 52\n",
      "Only Seconds : 52\n",
      "Only MilliSeconds : 340729\n"
     ]
    }
   ],
   "source": [
    "#strftime(formatting parameter)\n",
    "\n",
    "x = datetime.datetime.now()\n",
    "print(\"current date and time:\",x)\n",
    "\n",
    "#only date-> %x\n",
    "date = x.strftime(\"%x\")\n",
    "print(\"Only date:\",date)\n",
    "\n",
    "#only time-> %X\n",
    "time = x.strftime(\"%X\")\n",
    "print(\"Only time:\",time)\n",
    "\n",
    "#only year ends with 2 digits->%y\n",
    "year1 = x.strftime(\"%y\")\n",
    "print(\"Year ends with 2 digits:\",year1)\n",
    "\n",
    "#only year ends with 4 digits->%Y\n",
    "year2 = x.strftime(\"%Y\")\n",
    "print(\"Year ends with 4 digits:\",year2)\n",
    "\n",
    "#only month in digits->%m\n",
    "mon1 = x.strftime(\"%m\")\n",
    "print(\"only month in digit:\",mon1)\n",
    "\n",
    "#only month in first 3 characters->%b\n",
    "mon2 = x.strftime(\"%b\")\n",
    "print(\"only month in first 3 characters:\",mon2)\n",
    "\n",
    "#only month in full name->%B\n",
    "mon3 = x.strftime(\"%B\")\n",
    "print(\"only month in full name:\",mon3)\n",
    "\n",
    "#only day in 1st 3 characters->%a\n",
    "day1 = x.strftime(\"%a\")\n",
    "print(\"only day in 1st 3 characters:\",day1)\n",
    "\n",
    "#only day in Full characters->%A\n",
    "day2 = x.strftime(\"%A\")\n",
    "print(\"only day in Full characters:\",day2)\n",
    "\n",
    "#Day in a week->%w\n",
    "day3 = x.strftime(\"%w\")\n",
    "print(\"Day in a week:\",day3)\n",
    "\n",
    "#Day in a month->%d\n",
    "day4 = x.strftime(\"%d\")\n",
    "print(\"Day in a month:\",day4)\n",
    "\n",
    "#Day in a year->%j\n",
    "day5 = x.strftime(\"%j\")\n",
    "print(\"Day in a year:\",day5)\n",
    "\n",
    "#week in a year->%U\n",
    "week1 = x.strftime(\"%U\")\n",
    "print(\"Day in a year:\",week1)\n",
    "\n",
    "#12 hours->%I\n",
    "hr1 = x.strftime(\"%I\")\n",
    "print(\"12 hours :\",hr1)\n",
    "\n",
    "#PM/AM->%p\n",
    "hr2 = x.strftime(\"%p\")\n",
    "print(\"PM/AM :\",hr2)\n",
    "\n",
    "#24 hours->%H\n",
    "hr3 = x.strftime(\"%H\")\n",
    "print(\"24 hours :\",hr3)\n",
    "\n",
    "#Only Minutes->%M\n",
    "minu = x.strftime(\"%M\")\n",
    "print(\"Only Minutes :\",minu)\n",
    "\n",
    "#Only Seconds->%S\n",
    "sec = x.strftime(\"%S\")\n",
    "print(\"Only Seconds :\",sec)\n",
    "\n",
    "#Only MilliSeconds->%f\n",
    "ms = x.strftime(\"%f\")\n",
    "print(\"Only MilliSeconds :\",ms)"
   ]
  },
  {
   "cell_type": "code",
   "execution_count": 45,
   "id": "e056c8e3",
   "metadata": {},
   "outputs": [
    {
     "name": "stdout",
     "output_type": "stream",
     "text": [
      "current date and time: 2023-10-08 12:56:58.986439\n",
      "after 1 week: 2023-09-08 12:56:58.986439\n",
      "Friday\n"
     ]
    }
   ],
   "source": [
    "#timedelta()-> manipulation on dates\n",
    "\n",
    "x = datetime.datetime.now()\n",
    "print(\"current date and time:\",x)\n",
    "\n",
    "res = x-datetime.timedelta(days=30)\n",
    "print(\"after 1 week:\",res)\n",
    "print(res.strftime(\"%A\"))"
   ]
  },
  {
   "cell_type": "code",
   "execution_count": null,
   "id": "436de535",
   "metadata": {},
   "outputs": [],
   "source": []
  }
 ],
 "metadata": {
  "kernelspec": {
   "display_name": "Python 3 (ipykernel)",
   "language": "python",
   "name": "python3"
  },
  "language_info": {
   "codemirror_mode": {
    "name": "ipython",
    "version": 3
   },
   "file_extension": ".py",
   "mimetype": "text/x-python",
   "name": "python",
   "nbconvert_exporter": "python",
   "pygments_lexer": "ipython3",
   "version": "3.10.4"
  }
 },
 "nbformat": 4,
 "nbformat_minor": 5
}
